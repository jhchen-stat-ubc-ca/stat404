{
 "cells": [
  {
   "cell_type": "markdown",
   "metadata": {
    "slideshow": {
     "slide_type": "slide"
    }
   },
   "source": [
    "# Stat 404. Design of Experiment\n",
    "\n",
    "Instructor: Jiahua Chen\n",
    "\n",
    "Department of Statistics\n",
    "\n",
    "Office: ESB 3136\n",
    "\n",
    "Email jhchen@stat.ubc.ca"
   ]
  },
  {
   "cell_type": "markdown",
   "metadata": {
    "slideshow": {
     "slide_type": "slide"
    }
   },
   "source": [
    "## Instruction method\n",
    "\n",
    "I am new to jupyter so be understanding if I run into technical difficulties.\n",
    "\n",
    "Jupyter has some obvious advantages.\n",
    "\n",
    "* It allows me to make corrections if my slides contain mistakes\n",
    "* It allows us to visit website to obtain real time information.\n",
    "* It allows real time execution of R-code for Data analysis.\n",
    "* It certainly allows me to add materials."
   ]
  },
  {
   "cell_type": "markdown",
   "metadata": {
    "slideshow": {
     "slide_type": "slide"
    }
   },
   "source": [
    "## Instruction method\n",
    "\n",
    "I am new to jupyter so be understanding if I run into technical difficulties.\n",
    "\n",
    "Jupyter has some obvious advantages.\n",
    "\n",
    "* It allows me to make corrections if my slides contain mistakes\n",
    "* It allows us to visit website to obtain real time information.\n",
    "* It allows real time execution of R-code for Data analysis.\n",
    "* It certainly allows me to add materials."
   ]
  },
  {
   "cell_type": "markdown",
   "metadata": {
    "slideshow": {
     "slide_type": "slide"
    }
   },
   "source": [
    "## Course Information\n",
    "\n",
    "Syllabus, Assignments, annoucements and other course information\n",
    "are or will be posted at\n",
    "\n",
    "[Canvas] https://canvas.ubc.ca/courses/43346\n",
    "\n",
    "Similarly, you are encouraged to post questions in discussion section.\n",
    "\n",
    "* Jupyter can be used for the same purpose. However, I have yet to learn."
   ]
  },
  {
   "cell_type": "code",
   "execution_count": 5,
   "metadata": {
    "slideshow": {
     "slide_type": "slide"
    }
   },
   "outputs": [
    {
     "name": "stdout",
     "output_type": "stream",
     "text": [
      " [1] 1 5 3 4 5 5 5 6 4 5\n",
      "[1] 4.3\n",
      "[1] 2.011111\n"
     ]
    }
   ],
   "source": [
    "# We have seen how to visit the website from jupyter slides\n",
    "# Here is a quick demon for computing sample mean and variance\n",
    "\n",
    "x = rpois(10, 4)    ## generate 10 random numbers from Poisson distribution with mean 4\n",
    "print(x)            ## show me these 10 values.\n",
    "print(mean(x))\n",
    "print(var(x))"
   ]
  },
  {
   "cell_type": "markdown",
   "metadata": {
    "slideshow": {
     "slide_type": "slide"
    }
   },
   "source": [
    "## In this course, iclickers wil be used.\n",
    "\n",
    "* I assume many of you are more experienced than I am.\n",
    "* Do help me and I sincerly appreciate your help."
   ]
  },
  {
   "cell_type": "markdown",
   "metadata": {
    "slideshow": {
     "slide_type": "slide"
    }
   },
   "source": [
    "## As a test, here is a clicker question\n",
    "\n",
    "Why do you decide to take Stat 404 this term:\n",
    "\n",
    "* A: you love statistics\n",
    "* B: it is an easy credit to earn\n",
    "* C: this is a required course for you\n",
    "* D: you need its credit to graduate in time\n",
    "* E: none of the above."
   ]
  },
  {
   "cell_type": "markdown",
   "metadata": {
    "slideshow": {
     "slide_type": "slide"
    }
   },
   "source": [
    "## Lecture 1.1: Generals\n",
    "\n",
    "Not many of us remember too much details years after a specific course.\n",
    "\n",
    "* Do you still remember the definition of random variable?\n",
    "* How about the expection, variance, moment generating function?\n",
    "* How about the probability mass function of Hypogeometric distribution?\n",
    "\n",
    "You should have some idea about the answers of the first two.\n",
    "\n",
    "No point to feel sorry if you do not know the answer of the last question."
   ]
  },
  {
   "cell_type": "markdown",
   "metadata": {
    "slideshow": {
     "slide_type": "slide"
    }
   },
   "source": [
    "## Expectations of this course\n",
    "\n",
    "There are many tedious details in the Design of Experiment.\n",
    "\n",
    "Years after this couse, please still remember three principles of the design of experiments.\n",
    "\n",
    "They are:\n",
    "\n",
    "* randomization\n",
    "\n",
    "* replication\n",
    "\n",
    "* blocking\n",
    "\n",
    "Some explanations will be given in class."
   ]
  },
  {
   "cell_type": "markdown",
   "metadata": {
    "slideshow": {
     "slide_type": "slide"
    }
   },
   "source": [
    "## Expectations of this course\n",
    "\n",
    "Years after this couse, please still have an impression of some typical designs\n",
    "\n",
    "* completely randomized design\n",
    "\n",
    "* one way factorial design.\n",
    "\n",
    "* randomized block design\n",
    "\n",
    "* two-way factorial design\n",
    "\n",
    "* Factorial and fractional factorial design\n",
    "\n",
    "* Latin square design\n"
   ]
  },
  {
   "cell_type": "markdown",
   "metadata": {
    "slideshow": {
     "slide_type": "slide"
    }
   },
   "source": [
    "## Expectations of this course\n",
    "\n",
    "This course will help you to learn\n",
    "\n",
    "* regression analysis\n",
    "\n",
    "* two sample t-test\n",
    "\n",
    "* randomization test\n",
    "\n",
    "* multiple comparison\n",
    "\n",
    "* analysis of variance (anova)\n"
   ]
  },
  {
   "cell_type": "markdown",
   "metadata": {
    "slideshow": {
     "slide_type": "slide"
    }
   },
   "source": [
    "## Expectations of this course\n",
    "\n",
    "This course will help you with\n",
    "\n",
    "* properties of the normal distribution.\n",
    "\n",
    "* geting familiar with the chi-square distributions\n",
    "\n",
    "* understanding the F-distribution\n",
    "\n",
    "* sum of square formulas\n"
   ]
  },
  {
   "cell_type": "markdown",
   "metadata": {
    "slideshow": {
     "slide_type": "slide"
    }
   },
   "source": [
    "## Notion of Experiment\n",
    "\n",
    "Every day English on experiment: trying something new or different\n",
    "\n",
    "* By statistically designed experiment: we look for a systematic plan for investigating and testing different strategies:\n",
    "\n",
    "      -- alternative pharmaceutical drugs\n",
    "\n",
    "      -- different advertising formats\n",
    "\n",
    "      -- several engine configurations\n",
    "\n",
    "      -- agricultural, industrial, social and so on.\n",
    "\n",
    "\n",
    "* Do not overly glorify statistic: we assist scientists in their research.\n"
   ]
  },
  {
   "cell_type": "markdown",
   "metadata": {
    "slideshow": {
     "slide_type": "slide"
    }
   },
   "source": [
    "## Statistics or Data Science?\n",
    "\n",
    "Regardless of the name, the main objective of statistics is to get information from data.\n",
    "\n",
    "There are two hugely different sources of data:\n",
    "\n",
    "* experimental and observational.\n",
    "\n",
    "- Observational: record whatever happens in the real world.\n",
    "\n",
    "http://csgeo.city.richmond.bc.ca/"
   ]
  },
  {
   "cell_type": "markdown",
   "metadata": {
    "slideshow": {
     "slide_type": "slide"
    }
   },
   "source": [
    "* Experimental: data collected through planned experiment in controled environment.\n",
    "\n",
    "- typical examples in textbooks: crop yields when different fertilizer is used; chemical yield under different temperatures, presures, concentrations; quality of a part using different manufacture processes.\n",
    "\n",
    "A real world example is as follows:\n",
    "\n",
    "https://clinicaltrials.gov/ct2/results?cond=Breast+Cancer&term=&cntry=CA&state=&city=&dist="
   ]
  },
  {
   "cell_type": "markdown",
   "metadata": {
    "slideshow": {
     "slide_type": "slide"
    }
   },
   "source": [
    "## Limitation of the observational data\n",
    "\n",
    "Observational data can be hard to analyze to arrive at conclusive claims.\n",
    "\n",
    "* Do smokers have shorter life expectancy?\n",
    "* All observational data so far support such a claim.\n",
    "* Yet due to observational nature of the data, many smokers find ways to counter this claim.\n",
    "\n",
    "\n",
    "* A well-thought counter argument: there might be a gene responsible for both smoking and short life expectancy.\n"
   ]
  },
  {
   "cell_type": "markdown",
   "metadata": {
    "slideshow": {
     "slide_type": "slide"
    }
   },
   "source": [
    "## Solution via Experimental data\n",
    "\n",
    "If we are desperate to make such a claim, a designed experiment can be helpful:\n",
    "\n",
    "* Randomly assign individuals into two groups.\n",
    "\n",
    "* Group one are forced to smoke many packs of cigarette.\n",
    "\n",
    "* Group two are kept away from the cigarette.\n",
    "\n",
    "* Keep all other aspects of the life as similar as possible.\n",
    "\n",
    "- If the claim remains supported by the data, it becomes harder to blame genes or other factors for the shorter life expectancy."
   ]
  },
  {
   "cell_type": "markdown",
   "metadata": {
    "slideshow": {
     "slide_type": "slide"
    }
   },
   "source": [
    "### Due to ethnic considerations, such experiment is not feasible.\n",
    "\n",
    "* While design of experiment is the topic of this course, we must admit that it has many limitations.\n",
    "\n",
    "* When designed experiment is feasible, it leads to data of higher quality to better assistant us to find the truth behind a system.\n",
    "\n",
    "* This justifies the usefulness of this course."
   ]
  },
  {
   "cell_type": "markdown",
   "metadata": {
    "slideshow": {
     "slide_type": "slide"
    }
   },
   "source": [
    "## Advantages of designed experiment\n",
    "\n",
    "Through this course, I hope to convince you that the DoE has the following advantages:\n",
    "\n",
    "* more efficient: arrive at the conclusion with fewer runs.\n",
    "\n",
    "* more conclusive: isolate the factor you wish to study by removing the effect other factors.\n",
    "\n",
    "* easy to analyze: simple data structure leads to simpler data analysis strategies."
   ]
  },
  {
   "cell_type": "markdown",
   "metadata": {
    "slideshow": {
     "slide_type": "slide"
    }
   },
   "source": [
    "## Features of the designed experiment\n",
    "\n",
    "By designing the experiment, we make it\n",
    "\n",
    "* comparative: two or more treatments are compared in a clinical trial.\n",
    "\n",
    "* have well-defined experimental units: divide the experiment objects into individual units, one treatment for each unit.\n",
    "\n",
    "   - examples: people in a clinical trial, eyes of a person, parts of a machine.\n",
    "\n",
    "* under control: the allocation of treatments to experimental units is decided within the experimental protocol.\n",
    "\n",
    "* randomized: the set of units receiving specific treatment is pre-decided at random to limit the influence of non-anticipated factors.\n",
    "\n",
    "* blocked: if experiment units can be divided into more uniform groups, ensure the comparisons are made under same conditions.\n",
    "\n",
    "* carefully planned: of course."
   ]
  },
  {
   "cell_type": "markdown",
   "metadata": {
    "slideshow": {
     "slide_type": "slide"
    }
   },
   "source": [
    "## 1.2 Textbook DoE examples\n",
    "\n",
    "### Agriculture\n",
    "A gardener conducted an experiment to find whether a change in the fertilizer mixture applied \n",
    "to his tomato plants would result in an improved yield. \n",
    "\n",
    "* He had 11 plants set out  in a single  row; \n",
    "\n",
    "* 5 were given the standard fertilizer mixture A, and the remaining 6 were fed a supposedly improved mixture B. \n",
    "\n",
    "* The yields of tomatoes from each plant were measured upon maturity.\n"
   ]
  },
  {
   "cell_type": "markdown",
   "metadata": {
    "slideshow": {
     "slide_type": "slide"
    }
   },
   "source": [
    "### Hardness Testing\n",
    "\n",
    "\n",
    "An experimenter wishes to determine whether or not four different tips produce different readings on a hardness testing machine. \n",
    "\n",
    "* The machine operates by pressing the tip into a metal test coupon, and from the depth of the resulting depression, the hardness of the coupon can be determined. \n",
    "\n",
    "* Four observations for each tip are required.\n",
    "\n",
    "    - There are 4 treatments in this example. \n",
    "\n",
    "    - The number of replications at each treatment is 4."
   ]
  },
  {
   "cell_type": "markdown",
   "metadata": {
    "slideshow": {
     "slide_type": "slide"
    }
   },
   "source": [
    "### Terminologies of DoE\n",
    "\n",
    "* The output variable in an experiment is also called the -response-. \n",
    "\n",
    "* The input variables are referred to as -factors-, with different -levels- that can be controlled or set by the experimenter.\n",
    "\n",
    "* A -treatment- is a combination of factor levels. When there is only one factor, each level defines a treatment. \n",
    "\n",
    "* An -experimental unit- is a generic term that refers to a basic unit such as material, animal, person, plant, time period, or location, to which a treatment is applied. \n",
    "\n",
    "* The process of choosing a treatment, applying it to an experiment unit, and obtaining the response is called an  -experimental run- or a -trial-. "
   ]
  },
  {
   "cell_type": "markdown",
   "metadata": {
    "slideshow": {
     "slide_type": "slide"
    }
   },
   "source": [
    "## A systematic approach to the planning and implementation of experiment \n",
    "\n",
    "The following five-step procedure is generally recommended.\n",
    "\n",
    "* 1. State objectives. What do you hope to learn?\n",
    "\n",
    "    The answer is usually from your future boss. It could be something  you want to demonstrate, and hope that the outcome will impress your future boss.\n",
    "\n",
    "\n",
    "* 2. Determine the response.\n",
    "\n",
    "    What do you plan to observe?\n"
   ]
  },
  {
   "cell_type": "markdown",
   "metadata": {
    "slideshow": {
     "slide_type": "slide"
    }
   },
   "source": [
    "### systematic approach (continued)\n",
    "\n",
    "* 3. Choose factors and levels.\n",
    "\n",
    "    To study the effect of factors, two or more levels of each factor are needed. \n",
    "\n",
    "    - Factors may be quantitative and qualitative.  \n",
    "\n",
    "    - How much fertilizer you use is a quantitative factor. \n",
    "\n",
    "    - What kind of fertilizer you use is a qualitative factor.\n",
    "\n",
    "    Is it possible that only some of them are crucial and some of them can be dropped from consideration?\n"
   ]
  },
  {
   "cell_type": "markdown",
   "metadata": {
    "slideshow": {
     "slide_type": "slide"
    }
   },
   "source": [
    "### systematic approach (continued)\n",
    "\n",
    "* 4. Work out an experimental plan.\n",
    "\n",
    "    The key consideration is to obtain the information efficiently. A poor design may capture little information which no analysis can rescue. \n",
    "\n",
    "\n",
    "* 5. Perform the experiment.\n",
    "\n",
    "    Make sure you will carry out the experiment as planned.\n",
    "        - If practical situations arise such that you have to alter the plan, be sure to record it in detail.\n"
   ]
  },
  {
   "cell_type": "markdown",
   "metadata": {
    "slideshow": {
     "slide_type": "slide"
    }
   },
   "source": [
    "## Five broad categories of experimental problems\n",
    "\n",
    "What problems do we solve with DoE in general?\n",
    "\n",
    "* 1. Treatment comparisons\n",
    "\n",
    "    The main purpose is to compare several treatments and select the best ones.\n",
    "\n",
    "    Normally, it implies that a product can be obtained by a number of different ways, and we want to know which one is the best according to some standard.\n",
    "    \n",
    "\n",
    "* 2. Variable screening.\n",
    "\n",
    "    The output is likely influenced by a number of factors. For instance, chemical reaction is controlled by temperature, pressure, concentration, duration, operator, and so on. Is it possible that only some of them are crucial and some of them can be dropped from consideration?\n",
    "    "
   ]
  },
  {
   "cell_type": "markdown",
   "metadata": {
    "slideshow": {
     "slide_type": "slide"
    }
   },
   "source": [
    "## Five broad categories of experimental problems\n",
    "\n",
    "What problems do we solve with DoE in general?\n",
    "\n",
    "* 3. Response surface exploration.\n",
    "\n",
    "    Suppose a few factors have been determined to have crucial influences on the output. We may then search for a simple mathematical relationship between the values \n",
    "of these factors and the output.\n",
    "\n",
    "\n",
    "* 4. System optimization.\n",
    "\n",
    "    The purpose of most (statistical) experiments is to find the best possible setting of the input variables. The output of an experiment can be analyzed to help us to\n",
    "achieve this goal.\n",
    "\n"
   ]
  },
  {
   "cell_type": "markdown",
   "metadata": {
    "slideshow": {
     "slide_type": "slide"
    }
   },
   "source": [
    "## Five broad categories of experimental problems\n",
    "\n",
    "What problems do we solve with DoE in general?\n",
    "\n",
    "* 5. System robustness.\n",
    "\n",
    "    Suppose the system is approximately optimized at two (or more) possible settings of the input variables. However, in mass production, it could be costly to control the input variables precisely.\n",
    "\n",
    "    The system deteriorates when the values of the input variables deviate from these settings. A setting is most robust if the system deteriorates least."
   ]
  },
  {
   "cell_type": "markdown",
   "metadata": {
    "slideshow": {
     "slide_type": "slide"
    }
   },
   "source": [
    "## Review of what we did last lecture (Sept 5)\n",
    "\n",
    "* logistics of this course\n",
    "\n",
    "* Learning expectations\n",
    "\n",
    "* General aspects of DoE\n",
    "\n",
    "* three fundamental principles of the DoE."
   ]
  },
  {
   "cell_type": "markdown",
   "metadata": {
    "slideshow": {
     "slide_type": "slide"
    }
   },
   "source": [
    "# Lecture 1.3: Fundamentals explained.\n",
    "\n",
    "## replication\n",
    "\n",
    "* When a treatment is applied to several experiment units,  we call it replication.\n",
    "\n",
    "* In general, the outcomes of the response variable on different units differ.\n",
    "\n",
    "* This variation reflects the magnitude of -experimental error-.\n",
    "\n",
    "* Large variation makes it harder to isolate the difference betweem treatments.\n",
    "\n",
    "* Replication helps to separate the treatment effect in the form of expected response value from experiment errors."
   ]
  },
  {
   "cell_type": "markdown",
   "metadata": {
    "slideshow": {
     "slide_type": "slide"
    }
   },
   "source": [
    "## how does replication help?\n",
    "\n",
    "In most cases, our focus is on the average performance of a treatment.\n",
    "\n",
    "The outcome of a single trial can be very important to an individual but historically we were only be able to go over the average performance.\n",
    "\n",
    "Here is a hypothetical example."
   ]
  },
  {
   "cell_type": "markdown",
   "metadata": {
    "slideshow": {
     "slide_type": "slide"
    }
   },
   "source": [
    "### Hypothetical example: does a new medicine extend patient life?\n",
    "\n",
    "* Suppose the survival time of such patients varies from 1 to 10 years with a historic average 6.\n",
    "\n",
    "* If new medicine was applied to only a single patient and he lived for 8 years, its superiority is not convincing.\n",
    "\n",
    "* If it was applied to 100 patients and they lived 8 years on average, the new medicine is seen effective.\n",
    "\n",
    "* How to explain our intuition of trusting the result of the experiment with 100 replicates? "
   ]
  },
  {
   "cell_type": "markdown",
   "metadata": {
    "slideshow": {
     "slide_type": "slide"
    }
   },
   "source": [
    "### Hypothetical example: does a new medicine extend patient life?\n",
    "\n",
    "Here is some statistics:\n",
    "\n",
    "* A single observation has a standard deviation around 2.5 years (why?).\n",
    "\n",
    "* Hence, it is not hard to beat the historic average by 2. It can be just lucky.\n",
    "\n",
    "* The average of 100 values has much lower standard deviation at 0.25 years (why?).\n",
    "\n",
    "* Hence, beating the historic average by 2 is impressive."
   ]
  },
  {
   "cell_type": "markdown",
   "metadata": {
    "slideshow": {
     "slide_type": "slide"
    }
   },
   "source": [
    "## Issue of fake replication\n",
    "\n",
    "Number of replicates is commonly called -sample size-.\n",
    "\n",
    "Its meaning is usually obvious and no explanation is needed.\n",
    "\n",
    "There are occasions we can be fooled.\n",
    "\n",
    "Let us have a look of https://www.paperhelicopterexperiment.com/"
   ]
  },
  {
   "cell_type": "markdown",
   "metadata": {
    "slideshow": {
     "slide_type": "slide"
    }
   },
   "source": [
    "### Follow the instructions of this website\n",
    "\n",
    "Drop the helicopter from a height of 1.5 meters and record the time it takes to touch the ground inside some closed space.\n",
    "\n",
    "* Do we have 10 replicates if 10 students have each recorded the time it takes?\n",
    "\n",
    "* Do we have 10 replicates if the same model is dropped 10 times from the same height?\n",
    "\n",
    "* Do we have 10 replicates if we run with 10 (nearly identical) models?"
   ]
  },
  {
   "cell_type": "markdown",
   "metadata": {
    "slideshow": {
     "slide_type": "slide"
    }
   },
   "source": [
    "## Randomization explained\n",
    "\n",
    "* In applications, the experiment units may not be alike enough against our wish.\n",
    "\n",
    "* To prevent unwanted influence of subjective judgment, the units should be allocated to treatment in random order.\n",
    "\n",
    "* That is, which unit receives which treatment is randomized.\n",
    "\n",
    "* It provides protection against variables (factors) that are unknown to the experimenter  but may impact the response.\n",
    "\n",
    "* Another benefit of randomization will be discussed in the future."
   ]
  },
  {
   "cell_type": "markdown",
   "metadata": {
    "slideshow": {
     "slide_type": "slide"
    }
   },
   "source": [
    "### Words from Internet:\n",
    "\n",
    "* The main purpose for using randomization in an experiement is to automatically control the lurking variable. \n",
    "\n",
    "* The main purpose for using randomization in an experiment is to control the lurking variable and establish a cause and effect relationship.\n",
    "\n",
    "- A well-respect hospital has much lower success rate for treating kidney stone than some nobody hospticals.\n",
    "\n",
    "- Why?\n",
    "\n"
   ]
  },
  {
   "cell_type": "markdown",
   "metadata": {
    "slideshow": {
     "slide_type": "slide"
    }
   },
   "source": [
    "### Suggestive explanation:\n",
    "\n",
    "* This hospital is so privileged that it only takes most difficult cases.\n",
    "\n",
    "\n",
    "* Patients choose hospitals, they are not randomly assigned to hospitals.\n",
    "\n"
   ]
  },
  {
   "cell_type": "markdown",
   "metadata": {
    "slideshow": {
     "slide_type": "slide"
    }
   },
   "source": [
    "## Blocking explained\n",
    "\n",
    "* Experiment units can often be divided into groups so that units in the same group are more alike.\n",
    "\n",
    "* We may  not have a single large group of alike units for the entire experiment so several groups of units have to be used.\n",
    "\n",
    "* These groups are referred to as blocks. The designed experiment must take such groups into consideration.\n",
    "\n",
    "Typical Example:\n",
    "\n",
    "A car has only 4 wheels. To compare the preformance of two types of tyres/tires over 100 tyres of each kind, it is best to have 2 of each kind in each car, with positions on the car randomized (or further blocked)."
   ]
  },
  {
   "cell_type": "markdown",
   "metadata": {
    "slideshow": {
     "slide_type": "slide"
    }
   },
   "source": [
    "### Summary:\n",
    "\n",
    "* Replication: reduce the influence of the experimental error.\n",
    "\n",
    "* randomization: reduce the influence of un-anticipated factors.\n",
    "\n",
    "* blocking: balance out the effect of factors not of interest.\n",
    "\n",
    "\n",
    "### The famous doctrine in experimental design: \n",
    "\n",
    "**block what you can and randomize what you cannot**. \n"
   ]
  },
  {
   "cell_type": "markdown",
   "metadata": {
    "slideshow": {
     "slide_type": "slide"
    }
   },
   "source": [
    "## Lecture 1.4 Some mathematical statistics\n",
    "\n",
    "What is statistics?\n",
    "\n",
    "\n",
    "By examining the outcome of a process involving uncertainty, statisticians give educated guess of what must be the rule\n",
    "that governs the randomness.\n",
    "\n",
    "Often, our guess is based on a well motivated probability model.\n",
    "\n",
    "For instance, when we toss a coin 10 times, a binomial distribution is well motivated for the probability of\n",
    "observing $x$ heads:\n",
    "$$\n",
    "P( X = x) = {10 \\choose x} p^x (1-p)^{10-x}\n",
    "$$\n",
    "for some value $p$.\n",
    "\n",
    "\n",
    "In other words, we accept the binomial model with parameter $p$.\n"
   ]
  },
  {
   "cell_type": "markdown",
   "metadata": {
    "slideshow": {
     "slide_type": "slide"
    }
   },
   "source": [
    "### Estimation\n",
    "\n",
    "Presumably, the value of $p$ is $0.5$ for a fair coin. \n",
    "\n",
    "If we are not sure\n",
    "about the fairness of this coin, then we may come up with a most likely\n",
    "value of $p$ after we actually toss a coin many many times.\n",
    "\n",
    "\n",
    "You must have seen the claim that $\\hat p = x/n$ is the maximum\n",
    "likelihood estimator of $p$ and so on.\n"
   ]
  },
  {
   "cell_type": "markdown",
   "metadata": {
    "slideshow": {
     "slide_type": "slide"
    }
   },
   "source": [
    "### Hypothesis test\n",
    "Suppose we wish to dispute that the fair value is $p=0.5$.\n",
    "\n",
    "We may then toss the coin $n$ times, collect the data\n",
    "and test the hypothesis\n",
    "$$\n",
    "H_0: p = 0.5 \\mbox{ against }\n",
    "H_a: p \\neq 0.5.\n",
    "$$\n",
    "\n",
    "* if after 10 trials, 2 outcomes are tails, what is your impression on the truthfulness of $H_0$?\n",
    "\n",
    "* what if after 100 trials, 20 outcomes are tails?\n",
    "\n",
    "* Does it matter if the alternative is $H_a: p < 0.5$ or $H_a: p > 0.5$\n"
   ]
  },
  {
   "cell_type": "markdown",
   "metadata": {
    "slideshow": {
     "slide_type": "slide"
    }
   },
   "source": [
    "### Sample mean and variance\n",
    "\n",
    "Suppose in a data analysis project,\n",
    "we have observations $y_1, y_2, \\ldots, y_n$ (due to replicates).\n",
    "\n",
    "The derviations below assume iid.\n",
    "\n",
    "In most statistical analysis, sample mean and sample variances\n",
    "are employed:\n",
    "\\begin{eqnarray*}\n",
    "\\bar y_n \n",
    "&=&\n",
    " (y_1 + y_2 + \\cdots + y_n)/n = n^{-1} \\sum_{i=1}^n y_i;\\\\\n",
    "s_n^2 \n",
    "&=&\n",
    " \\{ (y_1 - \\bar y)^2 + (y_2 - \\bar y)^2 + \\cdots + (y_n - \\bar y)^2 \\}/(n-1)\n",
    "= (n-1)^{-1}  \\sum_{i=1}^n (y_i - \\bar y)^2.\n",
    "\\end{eqnarray*}"
   ]
  },
  {
   "cell_type": "markdown",
   "metadata": {
    "slideshow": {
     "slide_type": "slide"
    }
   },
   "source": [
    "### Population mean and variance\n",
    "\n",
    "Suppose $\\mu = E(Y)$ and $\\sigma^2 = Var(Y)$.\n",
    "We have\n",
    "\\begin{eqnarray*}\n",
    "E(\\bar{y}_n) &=&\n",
    "n^{-1} \\sum_{i=1}^n E (y_i) = \\mu;\\\\\n",
    "Var(\\bar y_n) &=&\n",
    "n^{-2} \\sum_{i=1}^n Var(y_i) = \\sigma^2/n\n",
    "\\end{eqnarray*}\n",
    "\n",
    "* the expectation of the sample mean is the same as individual.\n",
    "\n",
    "* the variance of the sample mean is one $n$th of an individual."
   ]
  },
  {
   "cell_type": "markdown",
   "metadata": {
    "slideshow": {
     "slide_type": "slide"
    }
   },
   "source": [
    "### Connection with replication\n",
    "\n",
    "Because\n",
    "$Var(\\bar y_n) = \\sigma^2/n$,\n",
    "replicating the experiment $n$ times reduce\n",
    "the variance by a factor of $n$.\n",
    "\n",
    "* replication is helpful here.\n",
    "\n",
    "\n",
    "Recall the length of the CI for $\\mu$ is proportional to $\\sigma/\\sqrt{n}$.\n",
    "\n",
    "* To reduce the length by a factor of two, we must increase the sample size\n",
    "(number of replicates) by a factor of 4."
   ]
  },
  {
   "cell_type": "markdown",
   "metadata": {
    "slideshow": {
     "slide_type": "slide"
    }
   },
   "source": [
    "### Sample variance\n",
    "\n",
    "We may find sample variance is also given by\n",
    "$$\n",
    "s^2 = \\mbox{average of } \\{ (y_i - y_j)^2/2\\}  \\mbox{ for } i \\neq j\n",
    "$$\n",
    "Trust me for the moment.\n",
    "\n",
    "It is seen that\n",
    "$$\n",
    "E\\{ (y_1 - y_2)^2\\} = Var(y_1) + Var(y_2) = 2 \\sigma^2.\n",
    "$$\n",
    "Hence,\n",
    "$$\n",
    "E (s^2) = \\{ \\mbox{average of } E \\{ (y_i - y_j)^2/2\\}  \\mbox{ for } i \\neq j \\} = \\sigma^2.\n",
    "$$\n",
    "\n",
    "Because of this, we say $s^2$ is an unbiased estimator of $\\sigma^2$."
   ]
  },
  {
   "cell_type": "markdown",
   "metadata": {
    "slideshow": {
     "slide_type": "slide"
    }
   },
   "source": [
    "### Sample variance algebra\n",
    "\n",
    "In words: the sample variance $s^2$ \n",
    "is the average squared difference between observations.\n",
    "\n",
    "To prove this claim, we note\n",
    "\\begin{eqnarray*}\n",
    "\\sum_{i, j} (y_i - y_j)^2 \n",
    "&=&\n",
    "\\sum_{i, j} \\{  (y_i - \\bar y) - (y_j - \\bar y)\\}^2\\\\\n",
    "&=&\n",
    "n \\sum_{i} (y_i - \\bar y)^2 + n \\sum_{j} (y_j - \\bar y)^2 - 2 \\sum_{i,j}(y_i - \\bar y)(y_j - \\bar y).\n",
    "\\end{eqnarray*}\n",
    "\n",
    "Not too hardly,\n",
    "$$\n",
    " \\sum_{i,j}(y_i - \\bar y)(y_j - \\bar y) = 0.\n",
    "$$\n",
    "Hence,\n",
    "$$\n",
    "\\frac{1}{n(n-1)} \\sum_{i, j} (y_i - y_j)^2 \n",
    " =\n",
    "\\frac{1}{n-1}  \\sum_{i} (y_i - \\bar y)^2 + \\frac{1}{n-1}  \\sum_{j} (y_j - \\bar y)^2 \n",
    "=\n",
    "2 s^2.\n",
    "$$"
   ]
  },
  {
   "cell_type": "markdown",
   "metadata": {
    "slideshow": {
     "slide_type": "slide"
    }
   },
   "source": [
    "### Sample variance algebra\n",
    "\n",
    "Also take note\n",
    "$$\n",
    "\\sum_i (y_i - \\bar y)^2\n",
    "=\n",
    "\\sum_i (y_i^2 - 2 y_i \\bar y + \\bar y^2)\n",
    "=\n",
    "\\sum_i (y_i^2 )  - 2 \\bar y \\sum_i y_i + n \\bar y^2\\\\\n",
    "=\n",
    "\\sum_i (y_i^2 )  - 2 n \\bar y^2 + n \\bar y^2 =\n",
    "\\sum_i y_i^2   - n \\bar y^2.\n",
    "$$\n",
    "\n",
    "We get\n",
    "$$\n",
    " \\sum_i (y_i - \\bar y)^2\n",
    "= \\sum_i y_i^2   - n \\bar y^2\n",
    "$$\n",
    "and\n",
    "$$\n",
    " \\sum_i y_i^2 \n",
    "=\\sum_i (y_i - \\bar y)^2\n",
    "+ n \\bar y^2.\n",
    "$$\n",
    " \n",
    "The sum of squares formulas will be used\n",
    "very often."
   ]
  },
  {
   "cell_type": "markdown",
   "metadata": {
    "slideshow": {
     "slide_type": "slide"
    }
   },
   "source": [
    "### Numerical demo\n",
    "\n",
    "Suppose we have 7 observed values as follows\n",
    "\n",
    "* 1037.56  53.00  44.58 136.30 857.08 250.00 180.00"
   ]
  },
  {
   "cell_type": "code",
   "execution_count": 6,
   "metadata": {
    "slideshow": {
     "slide_type": "slide"
    }
   },
   "outputs": [
    {
     "name": "stdout",
     "output_type": "stream",
     "text": [
      "[1]     365.5029  165707.4294 1929390.9464  994244.5763\n"
     ]
    },
    {
     "data": {
      "text/html": [
       "FALSE"
      ],
      "text/latex": [
       "FALSE"
      ],
      "text/markdown": [
       "FALSE"
      ],
      "text/plain": [
       "[1] FALSE"
      ]
     },
     "metadata": {},
     "output_type": "display_data"
    },
    {
     "name": "stdout",
     "output_type": "stream",
     "text": [
      "[1] 1929391 1929391\n"
     ]
    }
   ],
   "source": [
    "# R-codes:\n",
    "yy=c(1037.56,53.00,44.58,136.30,857.08,250.00,180.00)\n",
    "ybar = mean(yy)\n",
    "yvar = var(yy)\n",
    "ssy = sum(yy^2)\n",
    "ssybar = sum( (yy-ybar)^2)\n",
    "print(c(ybar, yvar, ssy, ssybar))\n",
    "#### The values of $\\bar y^2$, $\\sum (y_i-\\bar y)^2$ and $\\sum y_i^2$\n",
    "\n",
    "ssybar + length(yy)*ybar^2 == ssy\n",
    "### are they equal?\n",
    "\n",
    "print(c(ssybar + length(yy)*ybar^2, ssy))\n",
    "### What is wrong?"
   ]
  },
  {
   "cell_type": "markdown",
   "metadata": {
    "slideshow": {
     "slide_type": "slide"
    }
   },
   "source": [
    "## Clicker questions (for you attention and Attendance)\n",
    "\n",
    "How much is $\\sum_{i=1}^{36} i$?\n",
    "\n",
    "\n",
    "How much is $\\sum_{j=1}^{10} (2i)$?\n",
    "\n",
    "\n"
   ]
  },
  {
   "cell_type": "code",
   "execution_count": 7,
   "metadata": {
    "slideshow": {
     "slide_type": "slide"
    }
   },
   "outputs": [
    {
     "name": "stdout",
     "output_type": "stream",
     "text": [
      "[1] 666\n",
      "[1] 110\n"
     ]
    }
   ],
   "source": [
    "## Lazy solutions:\n",
    "\n",
    "print(sum(1:36))\n",
    "\n",
    "print(sum(c(2, 4, 6, 8, 10, 12, 14, 16, 18, 20)))"
   ]
  },
  {
   "cell_type": "code",
   "execution_count": null,
   "metadata": {},
   "outputs": [],
   "source": []
  }
 ],
 "metadata": {
  "celltoolbar": "Slideshow",
  "kernelspec": {
   "display_name": "R",
   "language": "R",
   "name": "ir"
  },
  "language_info": {
   "codemirror_mode": "r",
   "file_extension": ".r",
   "mimetype": "text/x-r-source",
   "name": "R",
   "pygments_lexer": "r",
   "version": "3.6.1"
  }
 },
 "nbformat": 4,
 "nbformat_minor": 4
}
